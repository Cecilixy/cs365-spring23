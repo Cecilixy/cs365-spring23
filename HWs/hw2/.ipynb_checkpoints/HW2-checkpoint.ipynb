{
 "cells": [
  {
   "cell_type": "markdown",
   "metadata": {},
   "source": [
    "## Simulation: Drop needles\n",
    "\n",
    "Suppose we have a floor made of parallel strips of wood, each the same width $t$, and we drop a needle with length $l=t$ onto the floor. What is the probability that the needle will lie across a line between two strips?\n",
    "\n",
    "Below is an example of two needles dropped. Needle a falls across a line, while needle b does not.\n",
    "\n",
    "![Example](needle.png)"
   ]
  },
  {
   "cell_type": "markdown",
   "metadata": {},
   "source": [
    "In this coding homework, we will simulate such experiments and connect them with the estimation of $\\pi$."
   ]
  },
  {
   "cell_type": "code",
   "execution_count": 1,
   "metadata": {},
   "outputs": [],
   "source": [
    "import numpy as np\n",
    "import math\n",
    "import matplotlib.pyplot as plt\n",
    "import random"
   ]
  },
  {
   "cell_type": "markdown",
   "metadata": {},
   "source": [
    "The first thing to write is a function *drop_needle*. It simulates dropping a needle onto the floor we described and returns whether the needle lies across a line between two strips. \n",
    "\n",
    "Now the question is how to describe the position of a needle using random variables. The figure below visualizes a needle sampled, with $t=l=1$ (see figure above). Remember that the needle should have an equal probability of landing in any position. In fact, we can uniformly sample the position of the needle's mass center and then uniformly sample the angle formed by the needle and the x-axis. Specifically, we only focus on the mass center's position with respect to (w.r.t.) the x-axis since we can assume the strip is long enough.\n",
    "\n",
    "Besides, we do not need to sample the x-value of the center from $-\\inf$ to $\\inf$. Instead, we can uniformly sample it from $0$ to $2t$. Why is this the case?"
   ]
  },
  {
   "cell_type": "markdown",
   "metadata": {},
   "source": [
    "![needleExmple2](needleExmple2.png)"
   ]
  },
  {
   "cell_type": "markdown",
   "metadata": {},
   "source": [
    "[10pts]"
   ]
  },
  {
   "cell_type": "code",
   "execution_count": 2,
   "metadata": {},
   "outputs": [],
   "source": [
    "\n",
    "def drop_needle(strip_length, needle_length):\n",
    "    \"\"\"\n",
    "    Simulate dropping a needle on to the floor made of parallel strips of woods.\n",
    "    Return whether the needle lie across a line between two strips.\n",
    "\n",
    "    :return: An Integer that equals to 1 if the needle lie across a line, and 0 otherwise.\n",
    "    \"\"\" \n",
    "    #define the position of the needle\n",
    "    x = random.uniform(0,2*strip_length)\n",
    "    y = random.uniform(0,2*strip_length)\n",
    "    angle = random.uniform(0, math.pi)\n",
    "    \n",
    "    #four coordination of two endpoints\n",
    "    end_points = [x-needle_length/2 * math.cos(angle),y-needle_length/2 * math.cos(angle),\n",
    "                  x+needle_length/2*math.sin(angle),y+needle_length/2*math.sin(angle)]\n",
    "    \n",
    "    \n",
    "    for p in range(3*strip_length):\n",
    "        if(end_points[0] < p and end_points[2] > p):\n",
    "            return True\n",
    "    return False\n",
    "    \n",
    "\n",
    "    \n",
    "    "
   ]
  },
  {
   "cell_type": "markdown",
   "metadata": {},
   "source": [
    "Next, write a function run_simulation that calls drop_needle repetitively for n times. The function should return the probability that a dropped needle lies across a line based on the n trials. [5pts]"
   ]
  },
  {
   "cell_type": "code",
   "execution_count": 3,
   "metadata": {},
   "outputs": [],
   "source": [
    "def run_simulation(n, strip_length, needle_length):\n",
    "    \"\"\"\n",
    "    Repeat drop_needle experiment for n times. Return the probability that the needle will lie across a line. \n",
    "\n",
    "    :return: float, the probability that the needle will lie across a line according to the n experiments.\n",
    "    \"\"\" \n",
    "    # Write your code here\n",
    "    count = 0\n",
    "    for i in range(n):\n",
    "        if (drop_needle(strip_length, needle_length)):\n",
    "            count+=1\n",
    "    return (count/n)\n",
    "\n"
   ]
  },
  {
   "cell_type": "markdown",
   "metadata": {},
   "source": [
    "### Run the simulation\n",
    "\n",
    "Run the *run_simulation* function 500 times with parameters n=1000, strip_length=1, and needle_length=1. Each time the function is going to return a probability of the needle lying across the line. Plot a histogram of those 500 probabilities. [5pts]"
   ]
  },
  {
   "cell_type": "code",
   "execution_count": 4,
   "metadata": {},
   "outputs": [
    {
     "data": {
      "image/png": "[encoded data removed]",
      "text/plain": [
       "<Figure size 1440x504 with 1 Axes>"
      ]
     },
     "metadata": {
      "needs_background": "light"
     },
     "output_type": "display_data"
    }
   ],
   "source": [
    "# Write your code here\n",
    "p = []\n",
    "for i in range(500):\n",
    "    p += [run_simulation(1000, 1, 1)]\n",
    "        \n",
    "plt.figure(figsize=(20,7))\n",
    "\n",
    "common_params = dict(bins=30)\n",
    "plt.xlabel(\"Temp\")\n",
    "plt.ylabel(\"Frequency\")\n",
    "\n",
    "plt.title('Default')\n",
    "\n",
    "plt.hist(p, **common_params)\n",
    "plt.show()"
   ]
  },
  {
   "cell_type": "code",
   "execution_count": null,
   "metadata": {},
   "outputs": [],
   "source": []
  },
  {
   "cell_type": "markdown",
   "metadata": {},
   "source": [
    "## Estimate $\\pi$ based on the returned probability\n",
    "\n",
    "This experiment can be used to estimate the value of $\\pi$. In the case where the needle length $l$ equals to the width $t$ of the strips, the probability of a needle lies across a line is $p=\\frac{2}{\\pi}$. Try to prove why this holds. [15pts]\n"
   ]
  },
  {
   "cell_type": "markdown",
   "metadata": {},
   "source": [
    "Your proof:  The probability of a needle with length $l$, with dropped angle theta, lines across a line is $\\frac{l*|cos(theta)|}{l}$. Since theta is a uniform distribution, p = $\\int_{0}^{2\\pi} \\frac{1}{2\\pi}|cos(theta)|d(theta) = \\frac {1}{2\\pi}\\times 4\\int_{0}^{\\frac{\\pi}{2}} cos(theta)d(theta) = \\frac{2}{\\pi}$"
   ]
  },
  {
   "cell_type": "markdown",
   "metadata": {},
   "source": [
    "\n",
    "Assume you know $p=\\frac{2}{\\pi}$, and you can call the function *run_simulation*. Let $X_i$ be the indicator random variable of dropping the $i$-th needle, i.e., $X_i=1$ if the $i$-th needle lies across a line, and $X_i=0$ otherwise. Let $S_n=\\sum_{i=1}^n X_i$. How many needles do you need to drop, i.e., what value of $n$ should you take, to get the 95\\% confidence interval of $S_n$? Use Chebyshev's inequality and let $\\epsilon=0.1$. [15pts]"
   ]
  },
  {
   "cell_type": "markdown",
   "metadata": {},
   "source": [
    "Your answer: X is a bernouilli random variable because we either lie across the line or not. VAR[X] = $\\sigma^2$ = $p(1-p)$ = $\\frac{2}{\\pi} (1 - \\frac{2}{\\pi})$. Apply Chebyshev's inequality with $\\epsilon=0.1$, $Pr(|\\frac{S_n}{n} - \\mu| \\geq \\epsilon)$ = $Pr(\\frac{X_1 + X_2 + ... + X_n}{n} - \\frac{2}{\\pi}| \\geq 0.1) \\leq \\frac{\\frac{2}{\\pi}(1 - \\frac{2}{\\pi})}{n(0.1)^2} \\leq (1 - 0.95).$ Thus $n \\geq 462.7$ and we need to drop 463 needles to get the 95% confidence interval of $S_n$."
   ]
  },
  {
   "cell_type": "markdown",
   "metadata": {},
   "source": [
    "What does the CLT say about $S_n$? Run the *run_simulation* function with parameters n=5000, strip_length=1, and needle_length=1, and report a 95\\% confidence interval of $S_n$ based on CLT (see lecture slides page 4 from Feb 2). [10pts] "
   ]
  },
  {
   "cell_type": "code",
   "execution_count": 13,
   "metadata": {},
   "outputs": [
    {
     "name": "stdout",
     "output_type": "stream",
     "text": [
      "The 95% confidence interval of Sn is  0.376 ± 0.013700335762308894\n"
     ]
    }
   ],
   "source": [
    "# Write your code here.\n",
    "p = run_simulation(5000,1,1)\n",
    "\n",
    "x = math.sqrt(p*(1-p)/5000)\n",
    "\n",
    "print(\"The 95% confidence interval of Sn is \",p,\"±\",2*x)"
   ]
  },
  {
   "cell_type": "code",
   "execution_count": null,
   "metadata": {},
   "outputs": [],
   "source": []
  }
 ],
 "metadata": {
  "kernelspec": {
   "display_name": "Python 3",
   "language": "python",
   "name": "python3"
  },
  "language_info": {
   "codemirror_mode": {
    "name": "ipython",
    "version": 3
   },
   "file_extension": ".py",
   "mimetype": "text/x-python",
   "name": "python",
   "nbconvert_exporter": "python",
   "pygments_lexer": "ipython3",
   "version": "3.8.5"
  }
 },
 "nbformat": 4,
 "nbformat_minor": 4
}
